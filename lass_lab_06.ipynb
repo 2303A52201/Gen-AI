{
  "nbformat": 4,
  "nbformat_minor": 0,
  "metadata": {
    "colab": {
      "provenance": [],
      "authorship_tag": "ABX9TyPwH/mzwEWwOUHSLJrI1hc1",
      "include_colab_link": true
    },
    "kernelspec": {
      "name": "python3",
      "display_name": "Python 3"
    },
    "language_info": {
      "name": "python"
    }
  },
  "cells": [
    {
      "cell_type": "markdown",
      "metadata": {
        "id": "view-in-github",
        "colab_type": "text"
      },
      "source": [
        "<a href=\"https://colab.research.google.com/github/2303A52201/Gen-AI/blob/main/lass_lab_06.ipynb\" target=\"_parent\"><img src=\"https://colab.research.google.com/assets/colab-badge.svg\" alt=\"Open In Colab\"/></a>"
      ]
    },
    {
      "cell_type": "code",
      "execution_count": 1,
      "metadata": {
        "id": "Yc1A1M5iNydG"
      },
      "outputs": [],
      "source": [
        "import numpy as np\n",
        "import pandas as pd\n",
        "from sklearn.model_selection import train_test_split\n",
        "from sklearn.preprocessing import StandardScaler\n",
        "from keras.models import Sequential\n",
        "from keras.layers import Dense\n",
        "from keras.optimizers import SGD\n",
        "from keras.metrics import MeanSquaredError"
      ]
    },
    {
      "cell_type": "code",
      "source": [
        "url = \"/content/Housing .csv\"\n",
        "data = pd.read_csv(url)\n",
        "\n",
        "X = data.drop('price', axis=1)\n",
        "y = data['price']\n",
        "\n",
        "X = pd.get_dummies(X, columns=['mainroad', 'guestroom', 'basement', 'hotwaterheating', 'airconditioning', 'prefarea', 'furnishingstatus'], drop_first=True)\n",
        "\n",
        "X_train, X_test, y_train, y_test = train_test_split(X, y, test_size=0.2, random_state=42)\n",
        "\n",
        "scaler = StandardScaler()\n",
        "numerical_features = X_train.select_dtypes(include=['number']).columns\n",
        "X_train[numerical_features] = scaler.fit_transform(X_train[numerical_features])\n",
        "X_test[numerical_features] = scaler.transform(X_test[numerical_features])"
      ],
      "metadata": {
        "id": "sCqh39lSPrO-"
      },
      "execution_count": 5,
      "outputs": []
    },
    {
      "cell_type": "code",
      "source": [
        "model = Sequential()\n",
        "\n",
        "model.add(Dense(units=15, activation='tanh', input_dim=X_train.shape[1]))\n",
        "\n",
        "\n",
        "model.add(Dense(units=20, activation='tanh'))\n",
        "\n",
        "model.add(Dense(units=15, activation='tanh'))\n",
        "\n",
        "model.add(Dense(units=1))\n",
        "\n",
        "optimizer = SGD(learning_rate=0.01)\n",
        "model.compile(optimizer=optimizer, loss='mean_squared_error', metrics=[MeanSquaredError()])"
      ],
      "metadata": {
        "colab": {
          "base_uri": "https://localhost:8080/"
        },
        "id": "deb75gi6P0Ht",
        "outputId": "7132c492-d4ab-48a3-d3d3-dddceadc8fa6"
      },
      "execution_count": 8,
      "outputs": [
        {
          "output_type": "stream",
          "name": "stderr",
          "text": [
            "/usr/local/lib/python3.11/dist-packages/keras/src/layers/core/dense.py:87: UserWarning: Do not pass an `input_shape`/`input_dim` argument to a layer. When using Sequential models, prefer using an `Input(shape)` object as the first layer in the model instead.\n",
            "  super().__init__(activity_regularizer=activity_regularizer, **kwargs)\n"
          ]
        }
      ]
    },
    {
      "cell_type": "code",
      "source": [
        "history = model.fit(X_train, y_train, epochs=100, batch_size=16, validation_split=0.2)"
      ],
      "metadata": {
        "colab": {
          "base_uri": "https://localhost:8080/"
        },
        "id": "7VNEkxRnUJU3",
        "outputId": "553c1a14-c8df-42f6-c43b-2a4fd0e17f1e"
      },
      "execution_count": 9,
      "outputs": [
        {
          "output_type": "stream",
          "name": "stdout",
          "text": [
            "Epoch 1/100\n",
            "\u001b[1m22/22\u001b[0m \u001b[32m━━━━━━━━━━━━━━━━━━━━\u001b[0m\u001b[37m\u001b[0m \u001b[1m1s\u001b[0m 17ms/step - loss: 15254141534208.0000 - mean_squared_error: 15254141534208.0000 - val_loss: 5100359647232.0000 - val_mean_squared_error: 5100359647232.0000\n",
            "Epoch 2/100\n",
            "\u001b[1m22/22\u001b[0m \u001b[32m━━━━━━━━━━━━━━━━━━━━\u001b[0m\u001b[37m\u001b[0m \u001b[1m0s\u001b[0m 7ms/step - loss: 6714158481408.0000 - mean_squared_error: 6714158481408.0000 - val_loss: 4251280211968.0000 - val_mean_squared_error: 4251280211968.0000\n",
            "Epoch 3/100\n",
            "\u001b[1m22/22\u001b[0m \u001b[32m━━━━━━━━━━━━━━━━━━━━\u001b[0m\u001b[37m\u001b[0m \u001b[1m0s\u001b[0m 6ms/step - loss: 5881535660032.0000 - mean_squared_error: 5881535660032.0000 - val_loss: 4049896472576.0000 - val_mean_squared_error: 4049896472576.0000\n",
            "Epoch 4/100\n",
            "\u001b[1m22/22\u001b[0m \u001b[32m━━━━━━━━━━━━━━━━━━━━\u001b[0m\u001b[37m\u001b[0m \u001b[1m0s\u001b[0m 6ms/step - loss: 5282940321792.0000 - mean_squared_error: 5282940321792.0000 - val_loss: 3876628201472.0000 - val_mean_squared_error: 3876628201472.0000\n",
            "Epoch 5/100\n",
            "\u001b[1m22/22\u001b[0m \u001b[32m━━━━━━━━━━━━━━━━━━━━\u001b[0m\u001b[37m\u001b[0m \u001b[1m0s\u001b[0m 6ms/step - loss: 4138322624512.0000 - mean_squared_error: 4138322624512.0000 - val_loss: 4069235621888.0000 - val_mean_squared_error: 4069235621888.0000\n",
            "Epoch 6/100\n",
            "\u001b[1m22/22\u001b[0m \u001b[32m━━━━━━━━━━━━━━━━━━━━\u001b[0m\u001b[37m\u001b[0m \u001b[1m0s\u001b[0m 6ms/step - loss: 4362780540928.0000 - mean_squared_error: 4362780540928.0000 - val_loss: 3748103979008.0000 - val_mean_squared_error: 3748103979008.0000\n",
            "Epoch 7/100\n",
            "\u001b[1m22/22\u001b[0m \u001b[32m━━━━━━━━━━━━━━━━━━━━\u001b[0m\u001b[37m\u001b[0m \u001b[1m0s\u001b[0m 5ms/step - loss: 3343168307200.0000 - mean_squared_error: 3343168307200.0000 - val_loss: 3633101668352.0000 - val_mean_squared_error: 3633101668352.0000\n",
            "Epoch 8/100\n",
            "\u001b[1m22/22\u001b[0m \u001b[32m━━━━━━━━━━━━━━━━━━━━\u001b[0m\u001b[37m\u001b[0m \u001b[1m0s\u001b[0m 5ms/step - loss: 3607240900608.0000 - mean_squared_error: 3607240900608.0000 - val_loss: 3571152060416.0000 - val_mean_squared_error: 3571152060416.0000\n",
            "Epoch 9/100\n",
            "\u001b[1m22/22\u001b[0m \u001b[32m━━━━━━━━━━━━━━━━━━━━\u001b[0m\u001b[37m\u001b[0m \u001b[1m0s\u001b[0m 5ms/step - loss: 3185201381376.0000 - mean_squared_error: 3185201381376.0000 - val_loss: 3525567315968.0000 - val_mean_squared_error: 3525567315968.0000\n",
            "Epoch 10/100\n",
            "\u001b[1m22/22\u001b[0m \u001b[32m━━━━━━━━━━━━━━━━━━━━\u001b[0m\u001b[37m\u001b[0m \u001b[1m0s\u001b[0m 6ms/step - loss: 3694249902080.0000 - mean_squared_error: 3694249902080.0000 - val_loss: 3505851727872.0000 - val_mean_squared_error: 3505851727872.0000\n",
            "Epoch 11/100\n",
            "\u001b[1m22/22\u001b[0m \u001b[32m━━━━━━━━━━━━━━━━━━━━\u001b[0m\u001b[37m\u001b[0m \u001b[1m0s\u001b[0m 5ms/step - loss: 3094793158656.0000 - mean_squared_error: 3094793158656.0000 - val_loss: 3478333161472.0000 - val_mean_squared_error: 3478333161472.0000\n",
            "Epoch 12/100\n",
            "\u001b[1m22/22\u001b[0m \u001b[32m━━━━━━━━━━━━━━━━━━━━\u001b[0m\u001b[37m\u001b[0m \u001b[1m0s\u001b[0m 5ms/step - loss: 3288854691840.0000 - mean_squared_error: 3288854691840.0000 - val_loss: 3462505431040.0000 - val_mean_squared_error: 3462505431040.0000\n",
            "Epoch 13/100\n",
            "\u001b[1m22/22\u001b[0m \u001b[32m━━━━━━━━━━━━━━━━━━━━\u001b[0m\u001b[37m\u001b[0m \u001b[1m0s\u001b[0m 5ms/step - loss: 3035030355968.0000 - mean_squared_error: 3035030355968.0000 - val_loss: 3469311213568.0000 - val_mean_squared_error: 3469311213568.0000\n",
            "Epoch 14/100\n",
            "\u001b[1m22/22\u001b[0m \u001b[32m━━━━━━━━━━━━━━━━━━━━\u001b[0m\u001b[37m\u001b[0m \u001b[1m0s\u001b[0m 7ms/step - loss: 3104658685952.0000 - mean_squared_error: 3104658685952.0000 - val_loss: 3441647943680.0000 - val_mean_squared_error: 3441647943680.0000\n",
            "Epoch 15/100\n",
            "\u001b[1m22/22\u001b[0m \u001b[32m━━━━━━━━━━━━━━━━━━━━\u001b[0m\u001b[37m\u001b[0m \u001b[1m0s\u001b[0m 6ms/step - loss: 2718618091520.0000 - mean_squared_error: 2718618091520.0000 - val_loss: 3628670910464.0000 - val_mean_squared_error: 3628670910464.0000\n",
            "Epoch 16/100\n",
            "\u001b[1m22/22\u001b[0m \u001b[32m━━━━━━━━━━━━━━━━━━━━\u001b[0m\u001b[37m\u001b[0m \u001b[1m0s\u001b[0m 6ms/step - loss: 3444876247040.0000 - mean_squared_error: 3444876247040.0000 - val_loss: 3430274826240.0000 - val_mean_squared_error: 3430274826240.0000\n",
            "Epoch 17/100\n",
            "\u001b[1m22/22\u001b[0m \u001b[32m━━━━━━━━━━━━━━━━━━━━\u001b[0m\u001b[37m\u001b[0m \u001b[1m0s\u001b[0m 5ms/step - loss: 3608334303232.0000 - mean_squared_error: 3608334303232.0000 - val_loss: 3462737952768.0000 - val_mean_squared_error: 3462737952768.0000\n",
            "Epoch 18/100\n",
            "\u001b[1m22/22\u001b[0m \u001b[32m━━━━━━━━━━━━━━━━━━━━\u001b[0m\u001b[37m\u001b[0m \u001b[1m0s\u001b[0m 5ms/step - loss: 2827951538176.0000 - mean_squared_error: 2827951538176.0000 - val_loss: 3460505272320.0000 - val_mean_squared_error: 3460505272320.0000\n",
            "Epoch 19/100\n",
            "\u001b[1m22/22\u001b[0m \u001b[32m━━━━━━━━━━━━━━━━━━━━\u001b[0m\u001b[37m\u001b[0m \u001b[1m0s\u001b[0m 5ms/step - loss: 2859681972224.0000 - mean_squared_error: 2859681972224.0000 - val_loss: 3449890537472.0000 - val_mean_squared_error: 3449890537472.0000\n",
            "Epoch 20/100\n",
            "\u001b[1m22/22\u001b[0m \u001b[32m━━━━━━━━━━━━━━━━━━━━\u001b[0m\u001b[37m\u001b[0m \u001b[1m0s\u001b[0m 6ms/step - loss: 2839573430272.0000 - mean_squared_error: 2839573430272.0000 - val_loss: 3424294535168.0000 - val_mean_squared_error: 3424294535168.0000\n",
            "Epoch 21/100\n",
            "\u001b[1m22/22\u001b[0m \u001b[32m━━━━━━━━━━━━━━━━━━━━\u001b[0m\u001b[37m\u001b[0m \u001b[1m0s\u001b[0m 6ms/step - loss: 2344374501376.0000 - mean_squared_error: 2344374501376.0000 - val_loss: 3425521369088.0000 - val_mean_squared_error: 3425521369088.0000\n",
            "Epoch 22/100\n",
            "\u001b[1m22/22\u001b[0m \u001b[32m━━━━━━━━━━━━━━━━━━━━\u001b[0m\u001b[37m\u001b[0m \u001b[1m0s\u001b[0m 5ms/step - loss: 2939665776640.0000 - mean_squared_error: 2939665776640.0000 - val_loss: 3428094574592.0000 - val_mean_squared_error: 3428094574592.0000\n",
            "Epoch 23/100\n",
            "\u001b[1m22/22\u001b[0m \u001b[32m━━━━━━━━━━━━━━━━━━━━\u001b[0m\u001b[37m\u001b[0m \u001b[1m0s\u001b[0m 5ms/step - loss: 2456468586496.0000 - mean_squared_error: 2456468586496.0000 - val_loss: 3627241701376.0000 - val_mean_squared_error: 3627241701376.0000\n",
            "Epoch 24/100\n",
            "\u001b[1m22/22\u001b[0m \u001b[32m━━━━━━━━━━━━━━━━━━━━\u001b[0m\u001b[37m\u001b[0m \u001b[1m0s\u001b[0m 7ms/step - loss: 3328541196288.0000 - mean_squared_error: 3328541196288.0000 - val_loss: 3514193412096.0000 - val_mean_squared_error: 3514193412096.0000\n",
            "Epoch 25/100\n",
            "\u001b[1m22/22\u001b[0m \u001b[32m━━━━━━━━━━━━━━━━━━━━\u001b[0m\u001b[37m\u001b[0m \u001b[1m0s\u001b[0m 7ms/step - loss: 3108682334208.0000 - mean_squared_error: 3108682334208.0000 - val_loss: 3423641534464.0000 - val_mean_squared_error: 3423641534464.0000\n",
            "Epoch 26/100\n",
            "\u001b[1m22/22\u001b[0m \u001b[32m━━━━━━━━━━━━━━━━━━━━\u001b[0m\u001b[37m\u001b[0m \u001b[1m0s\u001b[0m 5ms/step - loss: 3283381125120.0000 - mean_squared_error: 3283381125120.0000 - val_loss: 3693451149312.0000 - val_mean_squared_error: 3693451149312.0000\n",
            "Epoch 27/100\n",
            "\u001b[1m22/22\u001b[0m \u001b[32m━━━━━━━━━━━━━━━━━━━━\u001b[0m\u001b[37m\u001b[0m \u001b[1m0s\u001b[0m 5ms/step - loss: 2609882595328.0000 - mean_squared_error: 2609882595328.0000 - val_loss: 3615969247232.0000 - val_mean_squared_error: 3615969247232.0000\n",
            "Epoch 28/100\n",
            "\u001b[1m22/22\u001b[0m \u001b[32m━━━━━━━━━━━━━━━━━━━━\u001b[0m\u001b[37m\u001b[0m \u001b[1m0s\u001b[0m 5ms/step - loss: 2516823048192.0000 - mean_squared_error: 2516823048192.0000 - val_loss: 3486649155584.0000 - val_mean_squared_error: 3486649155584.0000\n",
            "Epoch 29/100\n",
            "\u001b[1m22/22\u001b[0m \u001b[32m━━━━━━━━━━━━━━━━━━━━\u001b[0m\u001b[37m\u001b[0m \u001b[1m0s\u001b[0m 5ms/step - loss: 2926777991168.0000 - mean_squared_error: 2926777991168.0000 - val_loss: 3610281508864.0000 - val_mean_squared_error: 3610281508864.0000\n",
            "Epoch 30/100\n",
            "\u001b[1m22/22\u001b[0m \u001b[32m━━━━━━━━━━━━━━━━━━━━\u001b[0m\u001b[37m\u001b[0m \u001b[1m0s\u001b[0m 7ms/step - loss: 2922243424256.0000 - mean_squared_error: 2922243424256.0000 - val_loss: 3445406564352.0000 - val_mean_squared_error: 3445406564352.0000\n",
            "Epoch 31/100\n",
            "\u001b[1m22/22\u001b[0m \u001b[32m━━━━━━━━━━━━━━━━━━━━\u001b[0m\u001b[37m\u001b[0m \u001b[1m0s\u001b[0m 5ms/step - loss: 2627239936000.0000 - mean_squared_error: 2627239936000.0000 - val_loss: 3526051495936.0000 - val_mean_squared_error: 3526051495936.0000\n",
            "Epoch 32/100\n",
            "\u001b[1m22/22\u001b[0m \u001b[32m━━━━━━━━━━━━━━━━━━━━\u001b[0m\u001b[37m\u001b[0m \u001b[1m0s\u001b[0m 5ms/step - loss: 2634082156544.0000 - mean_squared_error: 2634082156544.0000 - val_loss: 3620484415488.0000 - val_mean_squared_error: 3620484415488.0000\n",
            "Epoch 33/100\n",
            "\u001b[1m22/22\u001b[0m \u001b[32m━━━━━━━━━━━━━━━━━━━━\u001b[0m\u001b[37m\u001b[0m \u001b[1m0s\u001b[0m 7ms/step - loss: 2614085550080.0000 - mean_squared_error: 2614085550080.0000 - val_loss: 3469767606272.0000 - val_mean_squared_error: 3469767606272.0000\n",
            "Epoch 34/100\n",
            "\u001b[1m22/22\u001b[0m \u001b[32m━━━━━━━━━━━━━━━━━━━━\u001b[0m\u001b[37m\u001b[0m \u001b[1m0s\u001b[0m 5ms/step - loss: 2763827445760.0000 - mean_squared_error: 2763827445760.0000 - val_loss: 3451238481920.0000 - val_mean_squared_error: 3451238481920.0000\n",
            "Epoch 35/100\n",
            "\u001b[1m22/22\u001b[0m \u001b[32m━━━━━━━━━━━━━━━━━━━━\u001b[0m\u001b[37m\u001b[0m \u001b[1m0s\u001b[0m 5ms/step - loss: 3231203459072.0000 - mean_squared_error: 3231203459072.0000 - val_loss: 3413291827200.0000 - val_mean_squared_error: 3413291827200.0000\n",
            "Epoch 36/100\n",
            "\u001b[1m22/22\u001b[0m \u001b[32m━━━━━━━━━━━━━━━━━━━━\u001b[0m\u001b[37m\u001b[0m \u001b[1m0s\u001b[0m 5ms/step - loss: 2697276686336.0000 - mean_squared_error: 2697276686336.0000 - val_loss: 3610373259264.0000 - val_mean_squared_error: 3610373259264.0000\n",
            "Epoch 37/100\n",
            "\u001b[1m22/22\u001b[0m \u001b[32m━━━━━━━━━━━━━━━━━━━━\u001b[0m\u001b[37m\u001b[0m \u001b[1m0s\u001b[0m 5ms/step - loss: 2752001867776.0000 - mean_squared_error: 2752001867776.0000 - val_loss: 3410666455040.0000 - val_mean_squared_error: 3410666455040.0000\n",
            "Epoch 38/100\n",
            "\u001b[1m22/22\u001b[0m \u001b[32m━━━━━━━━━━━━━━━━━━━━\u001b[0m\u001b[37m\u001b[0m \u001b[1m0s\u001b[0m 7ms/step - loss: 2855373635584.0000 - mean_squared_error: 2855373635584.0000 - val_loss: 3438315831296.0000 - val_mean_squared_error: 3438315831296.0000\n",
            "Epoch 39/100\n",
            "\u001b[1m22/22\u001b[0m \u001b[32m━━━━━━━━━━━━━━━━━━━━\u001b[0m\u001b[37m\u001b[0m \u001b[1m0s\u001b[0m 9ms/step - loss: 2580145504256.0000 - mean_squared_error: 2580145504256.0000 - val_loss: 3424084557824.0000 - val_mean_squared_error: 3424084557824.0000\n",
            "Epoch 40/100\n",
            "\u001b[1m22/22\u001b[0m \u001b[32m━━━━━━━━━━━━━━━━━━━━\u001b[0m\u001b[37m\u001b[0m \u001b[1m0s\u001b[0m 9ms/step - loss: 3293478125568.0000 - mean_squared_error: 3293478125568.0000 - val_loss: 3421287743488.0000 - val_mean_squared_error: 3421287743488.0000\n",
            "Epoch 41/100\n",
            "\u001b[1m22/22\u001b[0m \u001b[32m━━━━━━━━━━━━━━━━━━━━\u001b[0m\u001b[37m\u001b[0m \u001b[1m0s\u001b[0m 8ms/step - loss: 3072808976384.0000 - mean_squared_error: 3072808976384.0000 - val_loss: 3552100483072.0000 - val_mean_squared_error: 3552100483072.0000\n",
            "Epoch 42/100\n",
            "\u001b[1m22/22\u001b[0m \u001b[32m━━━━━━━━━━━━━━━━━━━━\u001b[0m\u001b[37m\u001b[0m \u001b[1m0s\u001b[0m 10ms/step - loss: 2979510091776.0000 - mean_squared_error: 2979510091776.0000 - val_loss: 3450186760192.0000 - val_mean_squared_error: 3450186760192.0000\n",
            "Epoch 43/100\n",
            "\u001b[1m22/22\u001b[0m \u001b[32m━━━━━━━━━━━━━━━━━━━━\u001b[0m\u001b[37m\u001b[0m \u001b[1m0s\u001b[0m 9ms/step - loss: 3203375300608.0000 - mean_squared_error: 3203375300608.0000 - val_loss: 3475372507136.0000 - val_mean_squared_error: 3475372507136.0000\n",
            "Epoch 44/100\n",
            "\u001b[1m22/22\u001b[0m \u001b[32m━━━━━━━━━━━━━━━━━━━━\u001b[0m\u001b[37m\u001b[0m \u001b[1m0s\u001b[0m 10ms/step - loss: 3013687377920.0000 - mean_squared_error: 3013687377920.0000 - val_loss: 3411423526912.0000 - val_mean_squared_error: 3411423526912.0000\n",
            "Epoch 45/100\n",
            "\u001b[1m22/22\u001b[0m \u001b[32m━━━━━━━━━━━━━━━━━━━━\u001b[0m\u001b[37m\u001b[0m \u001b[1m0s\u001b[0m 11ms/step - loss: 2636885000192.0000 - mean_squared_error: 2636885000192.0000 - val_loss: 3526095798272.0000 - val_mean_squared_error: 3526095798272.0000\n",
            "Epoch 46/100\n",
            "\u001b[1m22/22\u001b[0m \u001b[32m━━━━━━━━━━━━━━━━━━━━\u001b[0m\u001b[37m\u001b[0m \u001b[1m0s\u001b[0m 11ms/step - loss: 3193462587392.0000 - mean_squared_error: 3193462587392.0000 - val_loss: 3409596645376.0000 - val_mean_squared_error: 3409596645376.0000\n",
            "Epoch 47/100\n",
            "\u001b[1m22/22\u001b[0m \u001b[32m━━━━━━━━━━━━━━━━━━━━\u001b[0m\u001b[37m\u001b[0m \u001b[1m0s\u001b[0m 6ms/step - loss: 3234130296832.0000 - mean_squared_error: 3234130296832.0000 - val_loss: 3509922562048.0000 - val_mean_squared_error: 3509922562048.0000\n",
            "Epoch 48/100\n",
            "\u001b[1m22/22\u001b[0m \u001b[32m━━━━━━━━━━━━━━━━━━━━\u001b[0m\u001b[37m\u001b[0m \u001b[1m0s\u001b[0m 6ms/step - loss: 2901793832960.0000 - mean_squared_error: 2901793832960.0000 - val_loss: 3528683945984.0000 - val_mean_squared_error: 3528683945984.0000\n",
            "Epoch 49/100\n",
            "\u001b[1m22/22\u001b[0m \u001b[32m━━━━━━━━━━━━━━━━━━━━\u001b[0m\u001b[37m\u001b[0m \u001b[1m0s\u001b[0m 8ms/step - loss: 3026759188480.0000 - mean_squared_error: 3026759188480.0000 - val_loss: 3505386160128.0000 - val_mean_squared_error: 3505386160128.0000\n",
            "Epoch 50/100\n",
            "\u001b[1m22/22\u001b[0m \u001b[32m━━━━━━━━━━━━━━━━━━━━\u001b[0m\u001b[37m\u001b[0m \u001b[1m0s\u001b[0m 6ms/step - loss: 3159012409344.0000 - mean_squared_error: 3159012409344.0000 - val_loss: 3523118628864.0000 - val_mean_squared_error: 3523118628864.0000\n",
            "Epoch 51/100\n",
            "\u001b[1m22/22\u001b[0m \u001b[32m━━━━━━━━━━━━━━━━━━━━\u001b[0m\u001b[37m\u001b[0m \u001b[1m0s\u001b[0m 6ms/step - loss: 3051393646592.0000 - mean_squared_error: 3051393646592.0000 - val_loss: 3522999877632.0000 - val_mean_squared_error: 3522999877632.0000\n",
            "Epoch 52/100\n",
            "\u001b[1m22/22\u001b[0m \u001b[32m━━━━━━━━━━━━━━━━━━━━\u001b[0m\u001b[37m\u001b[0m \u001b[1m0s\u001b[0m 7ms/step - loss: 3517809426432.0000 - mean_squared_error: 3517809426432.0000 - val_loss: 3415070998528.0000 - val_mean_squared_error: 3415070998528.0000\n",
            "Epoch 53/100\n",
            "\u001b[1m22/22\u001b[0m \u001b[32m━━━━━━━━━━━━━━━━━━━━\u001b[0m\u001b[37m\u001b[0m \u001b[1m0s\u001b[0m 6ms/step - loss: 3663289647104.0000 - mean_squared_error: 3663289647104.0000 - val_loss: 3419169095680.0000 - val_mean_squared_error: 3419169095680.0000\n",
            "Epoch 54/100\n",
            "\u001b[1m22/22\u001b[0m \u001b[32m━━━━━━━━━━━━━━━━━━━━\u001b[0m\u001b[37m\u001b[0m \u001b[1m0s\u001b[0m 8ms/step - loss: 2927738748928.0000 - mean_squared_error: 2927738748928.0000 - val_loss: 3425949450240.0000 - val_mean_squared_error: 3425949450240.0000\n",
            "Epoch 55/100\n",
            "\u001b[1m22/22\u001b[0m \u001b[32m━━━━━━━━━━━━━━━━━━━━\u001b[0m\u001b[37m\u001b[0m \u001b[1m0s\u001b[0m 6ms/step - loss: 3027940933632.0000 - mean_squared_error: 3027940933632.0000 - val_loss: 3487712411648.0000 - val_mean_squared_error: 3487712411648.0000\n",
            "Epoch 56/100\n",
            "\u001b[1m22/22\u001b[0m \u001b[32m━━━━━━━━━━━━━━━━━━━━\u001b[0m\u001b[37m\u001b[0m \u001b[1m0s\u001b[0m 7ms/step - loss: 2419591217152.0000 - mean_squared_error: 2419591217152.0000 - val_loss: 3503541452800.0000 - val_mean_squared_error: 3503541452800.0000\n",
            "Epoch 57/100\n",
            "\u001b[1m22/22\u001b[0m \u001b[32m━━━━━━━━━━━━━━━━━━━━\u001b[0m\u001b[37m\u001b[0m \u001b[1m0s\u001b[0m 7ms/step - loss: 2737127555072.0000 - mean_squared_error: 2737127555072.0000 - val_loss: 3431938129920.0000 - val_mean_squared_error: 3431938129920.0000\n",
            "Epoch 58/100\n",
            "\u001b[1m22/22\u001b[0m \u001b[32m━━━━━━━━━━━━━━━━━━━━\u001b[0m\u001b[37m\u001b[0m \u001b[1m0s\u001b[0m 8ms/step - loss: 2653653827584.0000 - mean_squared_error: 2653653827584.0000 - val_loss: 3416307531776.0000 - val_mean_squared_error: 3416307531776.0000\n",
            "Epoch 59/100\n",
            "\u001b[1m22/22\u001b[0m \u001b[32m━━━━━━━━━━━━━━━━━━━━\u001b[0m\u001b[37m\u001b[0m \u001b[1m0s\u001b[0m 6ms/step - loss: 3105794293760.0000 - mean_squared_error: 3105794293760.0000 - val_loss: 3417400672256.0000 - val_mean_squared_error: 3417400672256.0000\n",
            "Epoch 60/100\n",
            "\u001b[1m22/22\u001b[0m \u001b[32m━━━━━━━━━━━━━━━━━━━━\u001b[0m\u001b[37m\u001b[0m \u001b[1m0s\u001b[0m 7ms/step - loss: 2623589318656.0000 - mean_squared_error: 2623589318656.0000 - val_loss: 3548990930944.0000 - val_mean_squared_error: 3548990930944.0000\n",
            "Epoch 61/100\n",
            "\u001b[1m22/22\u001b[0m \u001b[32m━━━━━━━━━━━━━━━━━━━━\u001b[0m\u001b[37m\u001b[0m \u001b[1m0s\u001b[0m 6ms/step - loss: 3020096536576.0000 - mean_squared_error: 3020096536576.0000 - val_loss: 3414382346240.0000 - val_mean_squared_error: 3414382346240.0000\n",
            "Epoch 62/100\n",
            "\u001b[1m22/22\u001b[0m \u001b[32m━━━━━━━━━━━━━━━━━━━━\u001b[0m\u001b[37m\u001b[0m \u001b[1m0s\u001b[0m 6ms/step - loss: 3268483743744.0000 - mean_squared_error: 3268483743744.0000 - val_loss: 3412841988096.0000 - val_mean_squared_error: 3412841988096.0000\n",
            "Epoch 63/100\n",
            "\u001b[1m22/22\u001b[0m \u001b[32m━━━━━━━━━━━━━━━━━━━━\u001b[0m\u001b[37m\u001b[0m \u001b[1m0s\u001b[0m 6ms/step - loss: 2741386084352.0000 - mean_squared_error: 2741386084352.0000 - val_loss: 3461056036864.0000 - val_mean_squared_error: 3461056036864.0000\n",
            "Epoch 64/100\n",
            "\u001b[1m22/22\u001b[0m \u001b[32m━━━━━━━━━━━━━━━━━━━━\u001b[0m\u001b[37m\u001b[0m \u001b[1m0s\u001b[0m 6ms/step - loss: 3318993649664.0000 - mean_squared_error: 3318993649664.0000 - val_loss: 3415903830016.0000 - val_mean_squared_error: 3415903830016.0000\n",
            "Epoch 65/100\n",
            "\u001b[1m22/22\u001b[0m \u001b[32m━━━━━━━━━━━━━━━━━━━━\u001b[0m\u001b[37m\u001b[0m \u001b[1m0s\u001b[0m 6ms/step - loss: 2945500577792.0000 - mean_squared_error: 2945500577792.0000 - val_loss: 3410437341184.0000 - val_mean_squared_error: 3410437341184.0000\n",
            "Epoch 66/100\n",
            "\u001b[1m22/22\u001b[0m \u001b[32m━━━━━━━━━━━━━━━━━━━━\u001b[0m\u001b[37m\u001b[0m \u001b[1m0s\u001b[0m 6ms/step - loss: 3339461853184.0000 - mean_squared_error: 3339461853184.0000 - val_loss: 3448462114816.0000 - val_mean_squared_error: 3448462114816.0000\n",
            "Epoch 67/100\n",
            "\u001b[1m22/22\u001b[0m \u001b[32m━━━━━━━━━━━━━━━━━━━━\u001b[0m\u001b[37m\u001b[0m \u001b[1m0s\u001b[0m 6ms/step - loss: 2813492461568.0000 - mean_squared_error: 2813492461568.0000 - val_loss: 3415606558720.0000 - val_mean_squared_error: 3415606558720.0000\n",
            "Epoch 68/100\n",
            "\u001b[1m22/22\u001b[0m \u001b[32m━━━━━━━━━━━━━━━━━━━━\u001b[0m\u001b[37m\u001b[0m \u001b[1m0s\u001b[0m 8ms/step - loss: 3014392807424.0000 - mean_squared_error: 3014392807424.0000 - val_loss: 3434889871360.0000 - val_mean_squared_error: 3434889871360.0000\n",
            "Epoch 69/100\n",
            "\u001b[1m22/22\u001b[0m \u001b[32m━━━━━━━━━━━━━━━━━━━━\u001b[0m\u001b[37m\u001b[0m \u001b[1m0s\u001b[0m 6ms/step - loss: 2827958353920.0000 - mean_squared_error: 2827958353920.0000 - val_loss: 3456173342720.0000 - val_mean_squared_error: 3456173342720.0000\n",
            "Epoch 70/100\n",
            "\u001b[1m22/22\u001b[0m \u001b[32m━━━━━━━━━━━━━━━━━━━━\u001b[0m\u001b[37m\u001b[0m \u001b[1m0s\u001b[0m 8ms/step - loss: 3443717570560.0000 - mean_squared_error: 3443717570560.0000 - val_loss: 3408252633088.0000 - val_mean_squared_error: 3408252633088.0000\n",
            "Epoch 71/100\n",
            "\u001b[1m22/22\u001b[0m \u001b[32m━━━━━━━━━━━━━━━━━━━━\u001b[0m\u001b[37m\u001b[0m \u001b[1m0s\u001b[0m 6ms/step - loss: 2479149023232.0000 - mean_squared_error: 2479149023232.0000 - val_loss: 3405223559168.0000 - val_mean_squared_error: 3405223559168.0000\n",
            "Epoch 72/100\n",
            "\u001b[1m22/22\u001b[0m \u001b[32m━━━━━━━━━━━━━━━━━━━━\u001b[0m\u001b[37m\u001b[0m \u001b[1m0s\u001b[0m 6ms/step - loss: 3097418792960.0000 - mean_squared_error: 3097418792960.0000 - val_loss: 3410922831872.0000 - val_mean_squared_error: 3410922831872.0000\n",
            "Epoch 73/100\n",
            "\u001b[1m22/22\u001b[0m \u001b[32m━━━━━━━━━━━━━━━━━━━━\u001b[0m\u001b[37m\u001b[0m \u001b[1m0s\u001b[0m 7ms/step - loss: 2897334763520.0000 - mean_squared_error: 2897334763520.0000 - val_loss: 3445789556736.0000 - val_mean_squared_error: 3445789556736.0000\n",
            "Epoch 74/100\n",
            "\u001b[1m22/22\u001b[0m \u001b[32m━━━━━━━━━━━━━━━━━━━━\u001b[0m\u001b[37m\u001b[0m \u001b[1m0s\u001b[0m 7ms/step - loss: 3279629058048.0000 - mean_squared_error: 3279629058048.0000 - val_loss: 3441954914304.0000 - val_mean_squared_error: 3441954914304.0000\n",
            "Epoch 75/100\n",
            "\u001b[1m22/22\u001b[0m \u001b[32m━━━━━━━━━━━━━━━━━━━━\u001b[0m\u001b[37m\u001b[0m \u001b[1m0s\u001b[0m 6ms/step - loss: 2925490077696.0000 - mean_squared_error: 2925490077696.0000 - val_loss: 3408256827392.0000 - val_mean_squared_error: 3408256827392.0000\n",
            "Epoch 76/100\n",
            "\u001b[1m22/22\u001b[0m \u001b[32m━━━━━━━━━━━━━━━━━━━━\u001b[0m\u001b[37m\u001b[0m \u001b[1m0s\u001b[0m 6ms/step - loss: 3116187516928.0000 - mean_squared_error: 3116187516928.0000 - val_loss: 3419001323520.0000 - val_mean_squared_error: 3419001323520.0000\n",
            "Epoch 77/100\n",
            "\u001b[1m22/22\u001b[0m \u001b[32m━━━━━━━━━━━━━━━━━━━━\u001b[0m\u001b[37m\u001b[0m \u001b[1m0s\u001b[0m 7ms/step - loss: 3472207380480.0000 - mean_squared_error: 3472207380480.0000 - val_loss: 3424334905344.0000 - val_mean_squared_error: 3424334905344.0000\n",
            "Epoch 78/100\n",
            "\u001b[1m22/22\u001b[0m \u001b[32m━━━━━━━━━━━━━━━━━━━━\u001b[0m\u001b[37m\u001b[0m \u001b[1m0s\u001b[0m 7ms/step - loss: 2968817762304.0000 - mean_squared_error: 2968817762304.0000 - val_loss: 3409275518976.0000 - val_mean_squared_error: 3409275518976.0000\n",
            "Epoch 79/100\n",
            "\u001b[1m22/22\u001b[0m \u001b[32m━━━━━━━━━━━━━━━━━━━━\u001b[0m\u001b[37m\u001b[0m \u001b[1m0s\u001b[0m 6ms/step - loss: 2701829865472.0000 - mean_squared_error: 2701829865472.0000 - val_loss: 3578465878016.0000 - val_mean_squared_error: 3578465878016.0000\n",
            "Epoch 80/100\n",
            "\u001b[1m22/22\u001b[0m \u001b[32m━━━━━━━━━━━━━━━━━━━━\u001b[0m\u001b[37m\u001b[0m \u001b[1m0s\u001b[0m 6ms/step - loss: 2847117148160.0000 - mean_squared_error: 2847117148160.0000 - val_loss: 3430553223168.0000 - val_mean_squared_error: 3430553223168.0000\n",
            "Epoch 81/100\n",
            "\u001b[1m22/22\u001b[0m \u001b[32m━━━━━━━━━━━━━━━━━━━━\u001b[0m\u001b[37m\u001b[0m \u001b[1m0s\u001b[0m 6ms/step - loss: 3387950104576.0000 - mean_squared_error: 3387950104576.0000 - val_loss: 3631161540608.0000 - val_mean_squared_error: 3631161540608.0000\n",
            "Epoch 82/100\n",
            "\u001b[1m22/22\u001b[0m \u001b[32m━━━━━━━━━━━━━━━━━━━━\u001b[0m\u001b[37m\u001b[0m \u001b[1m0s\u001b[0m 6ms/step - loss: 2805094678528.0000 - mean_squared_error: 2805094678528.0000 - val_loss: 3440494510080.0000 - val_mean_squared_error: 3440494510080.0000\n",
            "Epoch 83/100\n",
            "\u001b[1m22/22\u001b[0m \u001b[32m━━━━━━━━━━━━━━━━━━━━\u001b[0m\u001b[37m\u001b[0m \u001b[1m0s\u001b[0m 6ms/step - loss: 2974253580288.0000 - mean_squared_error: 2974253580288.0000 - val_loss: 3425088569344.0000 - val_mean_squared_error: 3425088569344.0000\n",
            "Epoch 84/100\n",
            "\u001b[1m22/22\u001b[0m \u001b[32m━━━━━━━━━━━━━━━━━━━━\u001b[0m\u001b[37m\u001b[0m \u001b[1m0s\u001b[0m 6ms/step - loss: 3385112133632.0000 - mean_squared_error: 3385112133632.0000 - val_loss: 3404711854080.0000 - val_mean_squared_error: 3404711854080.0000\n",
            "Epoch 85/100\n",
            "\u001b[1m22/22\u001b[0m \u001b[32m━━━━━━━━━━━━━━━━━━━━\u001b[0m\u001b[37m\u001b[0m \u001b[1m0s\u001b[0m 6ms/step - loss: 3171467919360.0000 - mean_squared_error: 3171467919360.0000 - val_loss: 3432876605440.0000 - val_mean_squared_error: 3432876605440.0000\n",
            "Epoch 86/100\n",
            "\u001b[1m22/22\u001b[0m \u001b[32m━━━━━━━━━━━━━━━━━━━━\u001b[0m\u001b[37m\u001b[0m \u001b[1m0s\u001b[0m 6ms/step - loss: 3050736713728.0000 - mean_squared_error: 3050736713728.0000 - val_loss: 3431858962432.0000 - val_mean_squared_error: 3431858962432.0000\n",
            "Epoch 87/100\n",
            "\u001b[1m22/22\u001b[0m \u001b[32m━━━━━━━━━━━━━━━━━━━━\u001b[0m\u001b[37m\u001b[0m \u001b[1m0s\u001b[0m 10ms/step - loss: 3107095052288.0000 - mean_squared_error: 3107095052288.0000 - val_loss: 3433471672320.0000 - val_mean_squared_error: 3433471672320.0000\n",
            "Epoch 88/100\n",
            "\u001b[1m22/22\u001b[0m \u001b[32m━━━━━━━━━━━━━━━━━━━━\u001b[0m\u001b[37m\u001b[0m \u001b[1m0s\u001b[0m 10ms/step - loss: 3101100605440.0000 - mean_squared_error: 3101100605440.0000 - val_loss: 3461418319872.0000 - val_mean_squared_error: 3461418319872.0000\n",
            "Epoch 89/100\n",
            "\u001b[1m22/22\u001b[0m \u001b[32m━━━━━━━━━━━━━━━━━━━━\u001b[0m\u001b[37m\u001b[0m \u001b[1m0s\u001b[0m 10ms/step - loss: 2856194670592.0000 - mean_squared_error: 2856194670592.0000 - val_loss: 3415695163392.0000 - val_mean_squared_error: 3415695163392.0000\n",
            "Epoch 90/100\n",
            "\u001b[1m22/22\u001b[0m \u001b[32m━━━━━━━━━━━━━━━━━━━━\u001b[0m\u001b[37m\u001b[0m \u001b[1m0s\u001b[0m 11ms/step - loss: 2653201891328.0000 - mean_squared_error: 2653201891328.0000 - val_loss: 3403485806592.0000 - val_mean_squared_error: 3403485806592.0000\n",
            "Epoch 91/100\n",
            "\u001b[1m22/22\u001b[0m \u001b[32m━━━━━━━━━━━━━━━━━━━━\u001b[0m\u001b[37m\u001b[0m \u001b[1m0s\u001b[0m 10ms/step - loss: 3281126162432.0000 - mean_squared_error: 3281126162432.0000 - val_loss: 3420205088768.0000 - val_mean_squared_error: 3420205088768.0000\n",
            "Epoch 92/100\n",
            "\u001b[1m22/22\u001b[0m \u001b[32m━━━━━━━━━━━━━━━━━━━━\u001b[0m\u001b[37m\u001b[0m \u001b[1m0s\u001b[0m 10ms/step - loss: 2963109576704.0000 - mean_squared_error: 2963109576704.0000 - val_loss: 3490538586112.0000 - val_mean_squared_error: 3490538586112.0000\n",
            "Epoch 93/100\n",
            "\u001b[1m22/22\u001b[0m \u001b[32m━━━━━━━━━━━━━━━━━━━━\u001b[0m\u001b[37m\u001b[0m \u001b[1m0s\u001b[0m 11ms/step - loss: 3145572810752.0000 - mean_squared_error: 3145572810752.0000 - val_loss: 3549230006272.0000 - val_mean_squared_error: 3549230006272.0000\n",
            "Epoch 94/100\n",
            "\u001b[1m22/22\u001b[0m \u001b[32m━━━━━━━━━━━━━━━━━━━━\u001b[0m\u001b[37m\u001b[0m \u001b[1m0s\u001b[0m 10ms/step - loss: 3143001702400.0000 - mean_squared_error: 3143001702400.0000 - val_loss: 3403690541056.0000 - val_mean_squared_error: 3403690541056.0000\n",
            "Epoch 95/100\n",
            "\u001b[1m22/22\u001b[0m \u001b[32m━━━━━━━━━━━━━━━━━━━━\u001b[0m\u001b[37m\u001b[0m \u001b[1m0s\u001b[0m 6ms/step - loss: 2896973791232.0000 - mean_squared_error: 2896973791232.0000 - val_loss: 3415125000192.0000 - val_mean_squared_error: 3415125000192.0000\n",
            "Epoch 96/100\n",
            "\u001b[1m22/22\u001b[0m \u001b[32m━━━━━━━━━━━━━━━━━━━━\u001b[0m\u001b[37m\u001b[0m \u001b[1m0s\u001b[0m 8ms/step - loss: 3114426433536.0000 - mean_squared_error: 3114426433536.0000 - val_loss: 3420367880192.0000 - val_mean_squared_error: 3420367880192.0000\n",
            "Epoch 97/100\n",
            "\u001b[1m22/22\u001b[0m \u001b[32m━━━━━━━━━━━━━━━━━━━━\u001b[0m\u001b[37m\u001b[0m \u001b[1m0s\u001b[0m 7ms/step - loss: 2870180315136.0000 - mean_squared_error: 2870180315136.0000 - val_loss: 3554456109056.0000 - val_mean_squared_error: 3554456109056.0000\n",
            "Epoch 98/100\n",
            "\u001b[1m22/22\u001b[0m \u001b[32m━━━━━━━━━━━━━━━━━━━━\u001b[0m\u001b[37m\u001b[0m \u001b[1m0s\u001b[0m 6ms/step - loss: 2989166428160.0000 - mean_squared_error: 2989166428160.0000 - val_loss: 3406341865472.0000 - val_mean_squared_error: 3406341865472.0000\n",
            "Epoch 99/100\n",
            "\u001b[1m22/22\u001b[0m \u001b[32m━━━━━━━━━━━━━━━━━━━━\u001b[0m\u001b[37m\u001b[0m \u001b[1m0s\u001b[0m 6ms/step - loss: 3069261643776.0000 - mean_squared_error: 3069261643776.0000 - val_loss: 3662536507392.0000 - val_mean_squared_error: 3662536507392.0000\n",
            "Epoch 100/100\n",
            "\u001b[1m22/22\u001b[0m \u001b[32m━━━━━━━━━━━━━━━━━━━━\u001b[0m\u001b[37m\u001b[0m \u001b[1m0s\u001b[0m 6ms/step - loss: 2683234680832.0000 - mean_squared_error: 2683234418688.0000 - val_loss: 3413556854784.0000 - val_mean_squared_error: 3413556854784.0000\n"
          ]
        }
      ]
    },
    {
      "cell_type": "code",
      "source": [
        "\n",
        "train_loss, train_mse = model.evaluate(X_train, y_train)\n",
        "print(f\"Training Loss: {train_loss}, Training MSE: {train_mse}\")\n",
        "\n",
        "test_loss, test_mse = model.evaluate(X_test, y_test)\n",
        "print(f\"Testing Loss: {test_loss}, Testing MSE: {test_mse}\")\n",
        ""
      ],
      "metadata": {
        "colab": {
          "base_uri": "https://localhost:8080/"
        },
        "id": "yvDP7CXvUUQg",
        "outputId": "213fcc8d-ffa5-4d14-be9f-a9752a8bc37c"
      },
      "execution_count": 10,
      "outputs": [
        {
          "output_type": "stream",
          "name": "stdout",
          "text": [
            "\u001b[1m14/14\u001b[0m \u001b[32m━━━━━━━━━━━━━━━━━━━━\u001b[0m\u001b[37m\u001b[0m \u001b[1m0s\u001b[0m 4ms/step - loss: 3067955642368.0000 - mean_squared_error: 3067955642368.0000 \n",
            "Training Loss: 3037005086720.0, Training MSE: 3037005086720.0\n",
            "\u001b[1m4/4\u001b[0m \u001b[32m━━━━━━━━━━━━━━━━━━━━\u001b[0m\u001b[37m\u001b[0m \u001b[1m0s\u001b[0m 14ms/step - loss: 5101883752448.0000 - mean_squared_error: 5101883752448.0000\n",
            "Testing Loss: 4974069153792.0, Testing MSE: 4974069153792.0\n"
          ]
        }
      ]
    },
    {
      "cell_type": "code",
      "source": [
        "\n",
        "model.save(\"housing_price_model.h5\")"
      ],
      "metadata": {
        "colab": {
          "base_uri": "https://localhost:8080/"
        },
        "id": "6PofJqQfUWu9",
        "outputId": "451abce7-6b5c-4cfd-f67e-c8c9d4ed3169"
      },
      "execution_count": 11,
      "outputs": [
        {
          "output_type": "stream",
          "name": "stderr",
          "text": [
            "WARNING:absl:You are saving your model as an HDF5 file via `model.save()` or `keras.saving.save_model(model)`. This file format is considered legacy. We recommend using instead the native Keras format, e.g. `model.save('my_model.keras')` or `keras.saving.save_model(model, 'my_model.keras')`. \n"
          ]
        }
      ]
    },
    {
      "source": [
        "selected_numerical_features = ['area', 'bedrooms', 'bathrooms']\n",
        "numerical_features_indices = [X.columns.get_loc(col) for col in selected_numerical_features]\n",
        "\n",
        "new_scaler = StandardScaler()\n",
        "\n",
        "X_train_selected = X_train[selected_numerical_features]\n",
        "X_test_selected = X_test[selected_numerical_features]\n",
        "\n",
        "X_train_selected = new_scaler.fit_transform(X_train_selected)\n",
        "X_test_selected = new_scaler.transform(X_test_selected)\n",
        "\n",
        "X_train.loc[:, selected_numerical_features] = X_train_selected\n",
        "X_test.loc[:, selected_numerical_features] = X_test_selected\n",
        "\n",
        "\n",
        "new_data = pd.DataFrame([[1500, 3, 2]], columns=selected_numerical_features)\n",
        "\n",
        "\n",
        "new_data_scaled = new_scaler.transform(new_data)"
      ],
      "cell_type": "code",
      "metadata": {
        "id": "ZyzoW7aBUzFn"
      },
      "execution_count": 14,
      "outputs": []
    }
  ]
}